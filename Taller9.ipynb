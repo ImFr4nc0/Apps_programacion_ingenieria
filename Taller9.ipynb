{
  "nbformat": 4,
  "nbformat_minor": 0,
  "metadata": {
    "colab": {
      "provenance": [],
      "authorship_tag": "ABX9TyOECS3Jvote9iQjZHQPm728",
      "include_colab_link": true
    },
    "kernelspec": {
      "name": "python3",
      "display_name": "Python 3"
    },
    "language_info": {
      "name": "python"
    }
  },
  "cells": [
    {
      "cell_type": "markdown",
      "metadata": {
        "id": "view-in-github",
        "colab_type": "text"
      },
      "source": [
        "<a href=\"https://colab.research.google.com/github/ImFr4nc0/Apps_programacion_ingenieria/blob/main/Taller9.ipynb\" target=\"_parent\"><img src=\"https://colab.research.google.com/assets/colab-badge.svg\" alt=\"Open In Colab\"/></a>"
      ]
    },
    {
      "cell_type": "code",
      "execution_count": 6,
      "metadata": {
        "colab": {
          "base_uri": "https://localhost:8080/"
        },
        "id": "kgp9jR_RpPH1",
        "outputId": "331f5920-7e89-4b4e-ae0b-06830b5ed4cb"
      },
      "outputs": [
        {
          "output_type": "stream",
          "name": "stderr",
          "text": [
            "2025-02-10 19:48:00.513 Thread 'MainThread': missing ScriptRunContext! This warning can be ignored when running in bare mode.\n",
            "2025-02-10 19:48:00.515 Thread 'MainThread': missing ScriptRunContext! This warning can be ignored when running in bare mode.\n",
            "2025-02-10 19:48:00.519 Thread 'MainThread': missing ScriptRunContext! This warning can be ignored when running in bare mode.\n",
            "2025-02-10 19:48:00.521 Thread 'MainThread': missing ScriptRunContext! This warning can be ignored when running in bare mode.\n",
            "2025-02-10 19:48:00.525 Thread 'MainThread': missing ScriptRunContext! This warning can be ignored when running in bare mode.\n",
            "2025-02-10 19:48:00.526 Thread 'MainThread': missing ScriptRunContext! This warning can be ignored when running in bare mode.\n",
            "2025-02-10 19:48:00.528 Thread 'MainThread': missing ScriptRunContext! This warning can be ignored when running in bare mode.\n",
            "2025-02-10 19:48:00.532 Thread 'MainThread': missing ScriptRunContext! This warning can be ignored when running in bare mode.\n",
            "2025-02-10 19:48:00.533 Thread 'MainThread': missing ScriptRunContext! This warning can be ignored when running in bare mode.\n",
            "2025-02-10 19:48:00.534 Thread 'MainThread': missing ScriptRunContext! This warning can be ignored when running in bare mode.\n",
            "2025-02-10 19:48:00.536 Thread 'MainThread': missing ScriptRunContext! This warning can be ignored when running in bare mode.\n",
            "2025-02-10 19:48:00.537 Thread 'MainThread': missing ScriptRunContext! This warning can be ignored when running in bare mode.\n",
            "2025-02-10 19:48:00.538 Thread 'MainThread': missing ScriptRunContext! This warning can be ignored when running in bare mode.\n",
            "2025-02-10 19:48:00.540 Thread 'MainThread': missing ScriptRunContext! This warning can be ignored when running in bare mode.\n",
            "2025-02-10 19:48:00.541 Thread 'MainThread': missing ScriptRunContext! This warning can be ignored when running in bare mode.\n",
            "2025-02-10 19:48:00.543 Thread 'MainThread': missing ScriptRunContext! This warning can be ignored when running in bare mode.\n",
            "2025-02-10 19:48:00.545 Thread 'MainThread': missing ScriptRunContext! This warning can be ignored when running in bare mode.\n"
          ]
        }
      ],
      "source": [
        "import streamlit as st\n",
        "import pandas as pd\n",
        "import requests\n",
        "import io\n",
        "\n",
        "def load_csv_from_url(url: str) -> pd.DataFrame:\n",
        "    \"\"\"\n",
        "    Descarga un archivo CSV desde una URL y lo carga en un DataFrame de Pandas.\n",
        "\n",
        "    Args:\n",
        "        url (str): URL del archivo CSV.\n",
        "\n",
        "    Returns:\n",
        "        pd.DataFrame: DataFrame con los datos cargados desde el CSV.\n",
        "    \"\"\"\n",
        "    try:\n",
        "        response = requests.get(url)\n",
        "        response.raise_for_status()\n",
        "        return pd.read_csv(io.StringIO(response.text))\n",
        "    except requests.RequestException as e:\n",
        "        st.error(f\"Error al descargar el archivo: {e}\")\n",
        "        return pd.DataFrame()\n",
        "\n",
        "def load_csv_from_file(uploaded_file) -> pd.DataFrame:\n",
        "    \"\"\"\n",
        "    Carga un archivo CSV subido por el usuario en un DataFrame de Pandas.\n",
        "\n",
        "    Args:\n",
        "        uploaded_file: Archivo subido por el usuario a través de Streamlit.\n",
        "\n",
        "    Returns:\n",
        "        pd.DataFrame: DataFrame con los datos cargados desde el CSV.\n",
        "    \"\"\"\n",
        "    try:\n",
        "        return pd.read_csv(uploaded_file)\n",
        "    except Exception as e:\n",
        "        st.error(f\"Error al leer el archivo: {e}\")\n",
        "        return pd.DataFrame()\n",
        "\n",
        "def main():\n",
        "    \"\"\"\n",
        "    Función principal de la aplicación Streamlit.\n",
        "    \"\"\"\n",
        "    st.title(\"Carga de Archivos CSV\")\n",
        "    st.write(\"Sube un archivo CSV desde tu computadora o proporciona un enlace público.\")\n",
        "\n",
        "    # Entrada de URL para cargar CSV\n",
        "    url = st.text_input(\"Introduce la URL del archivo CSV:\")\n",
        "\n",
        "    # Opción para subir archivo desde la computadora\n",
        "    uploaded_file = st.file_uploader(\"O sube un archivo CSV desde tu computadora\", type=[\"csv\"])\n",
        "\n",
        "    data = pd.DataFrame()\n",
        "\n",
        "    if url:\n",
        "        data = load_csv_from_url(url)\n",
        "    elif uploaded_file:\n",
        "        data = load_csv_from_file(uploaded_file)\n",
        "\n",
        "    # Muestra el DataFrame si se ha cargado correctamente\n",
        "    if not data.empty:\n",
        "        st.write(\"Vista previa de los datos:\")\n",
        "        st.dataframe(data.head())\n",
        "\n",
        "if __name__ == \"__main__\":\n",
        "    main()"
      ]
    }
  ]
}